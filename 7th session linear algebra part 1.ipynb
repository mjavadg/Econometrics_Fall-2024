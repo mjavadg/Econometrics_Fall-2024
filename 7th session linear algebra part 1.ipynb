{
 "cells": [
  {
   "cell_type": "markdown",
   "id": "74b2bfd7",
   "metadata": {},
   "source": [
    "# 7th session"
   ]
  },
  {
   "cell_type": "markdown",
   "id": "a742a33e",
   "metadata": {},
   "source": [
    "## Linear Algebra part 1"
   ]
  },
  {
   "cell_type": "markdown",
   "id": "de70c6d0",
   "metadata": {},
   "source": [
    "## Matrices in python\n",
    "\n",
    "### A deeper look at numpy library"
   ]
  },
  {
   "cell_type": "markdown",
   "id": "c07113ac",
   "metadata": {},
   "source": [
    "- np.eye(N: number of rows, M: number of columns(optional), k: index of the diagonal (default is 0 and refers to main diagonal), dtype)"
   ]
  },
  {
   "cell_type": "code",
   "execution_count": 3,
   "id": "7c968cc5",
   "metadata": {},
   "outputs": [],
   "source": [
    "import numpy as np"
   ]
  },
  {
   "cell_type": "code",
   "execution_count": 4,
   "id": "87accea1",
   "metadata": {},
   "outputs": [
    {
     "data": {
      "text/plain": [
       "array([[1.]])"
      ]
     },
     "execution_count": 4,
     "metadata": {},
     "output_type": "execute_result"
    }
   ],
   "source": [
    "np.eye(1)"
   ]
  },
  {
   "cell_type": "code",
   "execution_count": 5,
   "id": "991dac11",
   "metadata": {},
   "outputs": [
    {
     "data": {
      "text/plain": [
       "array([[1., 0., 0., 0., 0.],\n",
       "       [0., 1., 0., 0., 0.],\n",
       "       [0., 0., 1., 0., 0.],\n",
       "       [0., 0., 0., 1., 0.],\n",
       "       [0., 0., 0., 0., 1.]])"
      ]
     },
     "execution_count": 5,
     "metadata": {},
     "output_type": "execute_result"
    }
   ],
   "source": [
    "np.eye((5))"
   ]
  },
  {
   "cell_type": "code",
   "execution_count": 6,
   "id": "1dcf36c4",
   "metadata": {
    "scrolled": true
   },
   "outputs": [
    {
     "data": {
      "text/plain": [
       "array([[1., 0., 0.],\n",
       "       [0., 1., 0.],\n",
       "       [0., 0., 1.]])"
      ]
     },
     "execution_count": 6,
     "metadata": {},
     "output_type": "execute_result"
    }
   ],
   "source": [
    "np.eye((3),3)"
   ]
  },
  {
   "cell_type": "code",
   "execution_count": 7,
   "id": "dc69919e",
   "metadata": {},
   "outputs": [
    {
     "data": {
      "text/plain": [
       "array([[1, 0, 0, 0],\n",
       "       [0, 1, 0, 0],\n",
       "       [0, 0, 1, 0]])"
      ]
     },
     "execution_count": 7,
     "metadata": {},
     "output_type": "execute_result"
    }
   ],
   "source": [
    "np.eye((3), 4, dtype = int)"
   ]
  },
  {
   "cell_type": "code",
   "execution_count": 8,
   "id": "1c34fa46",
   "metadata": {},
   "outputs": [],
   "source": [
    "array1 = np.eye((3),3)"
   ]
  },
  {
   "cell_type": "code",
   "execution_count": 9,
   "id": "d6f3e4ed",
   "metadata": {},
   "outputs": [
    {
     "data": {
      "text/plain": [
       "array([1., 0., 0.])"
      ]
     },
     "execution_count": 9,
     "metadata": {},
     "output_type": "execute_result"
    }
   ],
   "source": [
    "array1[0] #first row"
   ]
  },
  {
   "cell_type": "code",
   "execution_count": 10,
   "id": "ea923239",
   "metadata": {},
   "outputs": [
    {
     "data": {
      "text/plain": [
       "array([0., 1., 0.])"
      ]
     },
     "execution_count": 10,
     "metadata": {},
     "output_type": "execute_result"
    }
   ],
   "source": [
    "array1[1] #second row"
   ]
  },
  {
   "cell_type": "code",
   "execution_count": 11,
   "id": "bbc0e0a7",
   "metadata": {},
   "outputs": [
    {
     "data": {
      "text/plain": [
       "0.0"
      ]
     },
     "execution_count": 11,
     "metadata": {},
     "output_type": "execute_result"
    }
   ],
   "source": [
    "array1[0][1] #1 * 2 element"
   ]
  },
  {
   "cell_type": "code",
   "execution_count": 12,
   "id": "c6da8d9a",
   "metadata": {},
   "outputs": [
    {
     "data": {
      "text/plain": [
       "1.0"
      ]
     },
     "execution_count": 12,
     "metadata": {},
     "output_type": "execute_result"
    }
   ],
   "source": [
    "array1[1][1] #2 * 2 element"
   ]
  },
  {
   "cell_type": "code",
   "execution_count": 13,
   "id": "a08de44d",
   "metadata": {},
   "outputs": [
    {
     "data": {
      "text/plain": [
       "numpy.ndarray"
      ]
     },
     "execution_count": 13,
     "metadata": {},
     "output_type": "execute_result"
    }
   ],
   "source": [
    "type(array1)"
   ]
  },
  {
   "cell_type": "code",
   "execution_count": 14,
   "id": "35ad0311",
   "metadata": {},
   "outputs": [
    {
     "data": {
      "text/plain": [
       "numpy.float64"
      ]
     },
     "execution_count": 14,
     "metadata": {},
     "output_type": "execute_result"
    }
   ],
   "source": [
    "type(array1[1][1]) "
   ]
  },
  {
   "cell_type": "markdown",
   "id": "18a43773",
   "metadata": {},
   "source": [
    "## random.rand() function"
   ]
  },
  {
   "cell_type": "code",
   "execution_count": 15,
   "id": "d4beba8a",
   "metadata": {},
   "outputs": [
    {
     "data": {
      "text/plain": [
       "array([0.57005645, 0.73637481, 0.21558091, 0.98341794, 0.61383845])"
      ]
     },
     "execution_count": 15,
     "metadata": {},
     "output_type": "execute_result"
    }
   ],
   "source": [
    "np.random.rand(5)"
   ]
  },
  {
   "cell_type": "code",
   "execution_count": 16,
   "id": "277fac7c",
   "metadata": {},
   "outputs": [
    {
     "data": {
      "text/plain": [
       "array([[0.08364189, 0.13805545, 0.22480506],\n",
       "       [0.05115877, 0.68752603, 0.87787756],\n",
       "       [0.59471737, 0.08590873, 0.34663773],\n",
       "       [0.50309379, 0.63921976, 0.76228081],\n",
       "       [0.85140318, 0.29198009, 0.5189082 ]])"
      ]
     },
     "execution_count": 16,
     "metadata": {},
     "output_type": "execute_result"
    }
   ],
   "source": [
    "np.random.rand(5, 3)"
   ]
  },
  {
   "cell_type": "markdown",
   "id": "5e656e52",
   "metadata": {},
   "source": [
    "## np.random.randint()\n",
    "\n",
    "- Generates random integers from a specified range\n",
    "\n",
    "- (low, high = None, size = None, dtype = int)\n",
    "\n",
    "- low: lowest integer to be drawn(inclusive)\n",
    "- high: highest integer to be drawn(exclusive; if not provided, low is used as the high value)\n",
    "- size: output shape \n",
    "- dtype: data type"
   ]
  },
  {
   "cell_type": "code",
   "execution_count": 17,
   "id": "c0e0e61b",
   "metadata": {},
   "outputs": [
    {
     "data": {
      "text/plain": [
       "array([[5, 1, 2],\n",
       "       [8, 8, 1],\n",
       "       [9, 2, 6]])"
      ]
     },
     "execution_count": 17,
     "metadata": {},
     "output_type": "execute_result"
    }
   ],
   "source": [
    "np.random.randint(1, 10, size = (3, 3))"
   ]
  },
  {
   "cell_type": "markdown",
   "id": "1dd1567d",
   "metadata": {},
   "source": [
    "## mathematical operations with  matrices"
   ]
  },
  {
   "cell_type": "code",
   "execution_count": 18,
   "id": "356f786e",
   "metadata": {},
   "outputs": [
    {
     "name": "stdout",
     "output_type": "stream",
     "text": [
      "[[1 9 6]\n",
      " [8 1 2]\n",
      " [9 4 9]]\n",
      "[[98 96 92]\n",
      " [99 97 96]\n",
      " [98 92 90]]\n"
     ]
    }
   ],
   "source": [
    "a = np.random.randint(1, 10, size = (3, 3))\n",
    "b = np.random.randint(90, 100, size = (3, 3))\n",
    "print(a)\n",
    "print(b)"
   ]
  },
  {
   "cell_type": "markdown",
   "id": "dd75f4f0",
   "metadata": {},
   "source": [
    "### Addition"
   ]
  },
  {
   "cell_type": "code",
   "execution_count": 19,
   "id": "caa78085",
   "metadata": {},
   "outputs": [
    {
     "data": {
      "text/plain": [
       "array([[ 99, 105,  98],\n",
       "       [107,  98,  98],\n",
       "       [107,  96,  99]])"
      ]
     },
     "execution_count": 19,
     "metadata": {},
     "output_type": "execute_result"
    }
   ],
   "source": [
    "a + b"
   ]
  },
  {
   "cell_type": "markdown",
   "id": "efee5533",
   "metadata": {},
   "source": [
    "### Subtraction"
   ]
  },
  {
   "cell_type": "code",
   "execution_count": 20,
   "id": "c3008a6f",
   "metadata": {},
   "outputs": [
    {
     "data": {
      "text/plain": [
       "array([[-97, -87, -86],\n",
       "       [-91, -96, -94],\n",
       "       [-89, -88, -81]])"
      ]
     },
     "execution_count": 20,
     "metadata": {},
     "output_type": "execute_result"
    }
   ],
   "source": [
    "a - b "
   ]
  },
  {
   "cell_type": "markdown",
   "id": "496e82e4",
   "metadata": {},
   "source": [
    "### Multiplication"
   ]
  },
  {
   "cell_type": "code",
   "execution_count": 21,
   "id": "f8c0c66c",
   "metadata": {},
   "outputs": [
    {
     "data": {
      "text/plain": [
       "array([[ 98, 864, 552],\n",
       "       [792,  97, 192],\n",
       "       [882, 368, 810]])"
      ]
     },
     "execution_count": 21,
     "metadata": {},
     "output_type": "execute_result"
    }
   ],
   "source": [
    "a * b"
   ]
  },
  {
   "cell_type": "markdown",
   "id": "db20455c",
   "metadata": {},
   "source": [
    "### Division"
   ]
  },
  {
   "cell_type": "code",
   "execution_count": 22,
   "id": "dfb149d1",
   "metadata": {},
   "outputs": [
    {
     "data": {
      "text/plain": [
       "array([[0.01020408, 0.09375   , 0.06521739],\n",
       "       [0.08080808, 0.01030928, 0.02083333],\n",
       "       [0.09183673, 0.04347826, 0.1       ]])"
      ]
     },
     "execution_count": 22,
     "metadata": {},
     "output_type": "execute_result"
    }
   ],
   "source": [
    "a / b"
   ]
  },
  {
   "cell_type": "markdown",
   "id": "56567808",
   "metadata": {},
   "source": [
    "## Solving a linear system of equations using cramer's rule"
   ]
  },
  {
   "cell_type": "markdown",
   "id": "f82a871f",
   "metadata": {},
   "source": [
    "$$\n",
    "6x_{1} + 5x_{2} = 49 \\\\\n",
    "3x_{1} + 4x_{2} = 32\n",
    "$$"
   ]
  },
  {
   "cell_type": "markdown",
   "id": "9acd5090",
   "metadata": {},
   "source": [
    "$$\n",
    "AX = B\n",
    "$$"
   ]
  },
  {
   "cell_type": "markdown",
   "id": "37a03719",
   "metadata": {},
   "source": [
    "## np.array()"
   ]
  },
  {
   "cell_type": "code",
   "execution_count": 23,
   "id": "872272d0",
   "metadata": {
    "scrolled": true
   },
   "outputs": [
    {
     "name": "stdout",
     "output_type": "stream",
     "text": [
      "[[6 5]\n",
      " [3 4]]\n",
      "[49 32]\n",
      "8.999999999999998\n"
     ]
    }
   ],
   "source": [
    "A = np.array([[6, 5], [3, 4]]) #Coefficients matrix\n",
    "B = np.array([49, 32]) #constants\n",
    "\n",
    "print(A, B, sep = \"\\n\")\n",
    "\n",
    "det_A = np.linalg.det(A)\n",
    "print(det_A)"
   ]
  },
  {
   "cell_type": "code",
   "execution_count": 24,
   "id": "6ba2e176",
   "metadata": {},
   "outputs": [],
   "source": [
    "#dir(np.linalg)"
   ]
  },
  {
   "cell_type": "code",
   "execution_count": 25,
   "id": "39424d59",
   "metadata": {},
   "outputs": [
    {
     "name": "stdout",
     "output_type": "stream",
     "text": [
      "[[6 5]\n",
      " [3 4]]\n",
      "[6 3]\n"
     ]
    }
   ],
   "source": [
    "C_1 = A.copy()\n",
    "print(C_1)\n",
    "print(C_1[:,0])"
   ]
  },
  {
   "cell_type": "code",
   "execution_count": 26,
   "id": "0324c13a",
   "metadata": {},
   "outputs": [
    {
     "data": {
      "text/plain": [
       "array([[49,  5],\n",
       "       [32,  4]])"
      ]
     },
     "execution_count": 26,
     "metadata": {},
     "output_type": "execute_result"
    }
   ],
   "source": [
    "C_1[:,0] = B  #replcaing column with B\n",
    "C_1"
   ]
  },
  {
   "cell_type": "markdown",
   "id": "1670851b",
   "metadata": {},
   "source": [
    "### To calculate x1 and x2 we should create two matrices with B matrix. For x1 we replace the fist column of A with B and for x2 we replace the second column of A with B. Then we calculate the determinant of the new matrices.\n",
    "\n",
    "### read the code below, to understand what happens then."
   ]
  },
  {
   "cell_type": "code",
   "execution_count": 27,
   "id": "e3d17d71",
   "metadata": {},
   "outputs": [
    {
     "name": "stdout",
     "output_type": "stream",
     "text": [
      "[[49  5]\n",
      " [32  4]]\n",
      "[[ 6 49]\n",
      " [ 3 32]]\n",
      "Solution using Cramer's Rule: \n",
      "x1 = 4.000000000000003, x2 = 5.0\n"
     ]
    }
   ],
   "source": [
    "if det_A == 0:\n",
    "    print(\"The system has no unique solution\")\n",
    "else:\n",
    "    A_1 = A.copy()\n",
    "    A_1[:, 0] = B\n",
    "    print(A_1)\n",
    "    det_A_1 = np.linalg.det(A_1) #for x_1\n",
    "    \n",
    "    A_2 = A.copy()\n",
    "    A_2[:, 1] = B\n",
    "    print(A_2)\n",
    "    det_A_2 = np.linalg.det(A_2) #for x_2\n",
    "    \n",
    "    x1 = det_A_1 / det_A\n",
    "    x2 = det_A_2 / det_A\n",
    "    \n",
    "    print(\"Solution using Cramer's Rule: \")\n",
    "    print(f\"x1 = {x1}, x2 = {x2}\")\n",
    "\n",
    "    "
   ]
  },
  {
   "cell_type": "markdown",
   "id": "7c6b6b9e",
   "metadata": {},
   "source": [
    "## Easier way"
   ]
  },
  {
   "cell_type": "code",
   "execution_count": 28,
   "id": "f54eb6a8",
   "metadata": {},
   "outputs": [
    {
     "name": "stdout",
     "output_type": "stream",
     "text": [
      "<class 'numpy.ndarray'>\n",
      "Solutions using numpy: [4. 5.]\n"
     ]
    }
   ],
   "source": [
    "A = np.array([[6, 5], [3, 4]]) #Coefficients matrix\n",
    "B = np.array([49, 32]) #constants\n",
    "\n",
    "solutions = np.linalg.solve(A, B)\n",
    "print(type(solutions))\n",
    "print(\"Solutions using numpy:\", solutions)"
   ]
  },
  {
   "cell_type": "markdown",
   "id": "cbcf1fcd",
   "metadata": {},
   "source": [
    "## Plotting the solutions"
   ]
  },
  {
   "cell_type": "code",
   "execution_count": 29,
   "id": "914907ba",
   "metadata": {},
   "outputs": [
    {
     "name": "stdout",
     "output_type": "stream",
     "text": [
      "Solution using NumPy: [4. 5.]\n"
     ]
    },
    {
     "data": {
      "image/png": "[encoded data removed]",
      "text/plain": [
       "<Figure size 1000x600 with 1 Axes>"
      ]
     },
     "metadata": {},
     "output_type": "display_data"
    }
   ],
   "source": [
    "import matplotlib.pyplot as plt\n",
    "\n",
    "# Coefficients matrix\n",
    "A = np.array([[6, 5], [3, 4]])\n",
    "# Constants vector\n",
    "B = np.array([49, 32])\n",
    "\n",
    "# Solve the system of equations\n",
    "solution = np.linalg.solve(A, B)\n",
    "print(\"Solution using NumPy:\", solution)\n",
    "\n",
    "# Define the range for x1\n",
    "x1 = np.linspace(0, 10, 100)\n",
    "\n",
    "# Calculate corresponding x2 values for both equations\n",
    "x2_1 = (49 - 6 * x1) / 5\n",
    "x2_2 = (32 - 3 * x1) / 4\n",
    "\n",
    "# Create the plot\n",
    "plt.figure(figsize=(10, 6))\n",
    "\n",
    "# Plot the equations\n",
    "plt.plot(x1, x2_1, label='6x1 + 5x2 = 49', color='blue')\n",
    "plt.plot(x1, x2_2, label='3x1 + 4x2 = 32', color='orange')\n",
    "\n",
    "# Plot the solution point\n",
    "plt.plot(solution[0], solution[1], 'ro')  # 'ro' means red dot\n",
    "plt.text(solution[0], solution[1], f'Solution {solution}', fontsize=12, verticalalignment='bottom')\n",
    "\n",
    "# Set plot limits\n",
    "plt.xlim(0, 10)\n",
    "plt.ylim(0, 10)\n",
    "\n",
    "# Add labels and title\n",
    "plt.xlabel('x1')\n",
    "plt.ylabel('x2')\n",
    "plt.title('Graphical Representation of the System of Equations')\n",
    "plt.axhline(0, color='black',linewidth=0.5, ls='--')\n",
    "plt.axvline(0, color='black',linewidth=0.5, ls='--')\n",
    "plt.grid(color = 'gray', linestyle = '--', linewidth = 0.5)\n",
    "plt.legend()\n",
    "plt.show()"
   ]
  },
  {
   "cell_type": "markdown",
   "id": "76240017",
   "metadata": {},
   "source": [
    "# Definitions \n",
    "\n",
    "## Rank of a matrix:\n",
    "\n",
    "- The **rank** of a matrix is the maximum number of linearly independent column vectors in the matrix. *It shows the dimension of the vector space spanned by its column*.\n",
    "\n",
    "\n",
    "- np.linalg.matrix_rank()"
   ]
  },
  {
   "cell_type": "code",
   "execution_count": 30,
   "id": "0a12a65a",
   "metadata": {},
   "outputs": [],
   "source": [
    "A = np.array([[6, 5], [3, 4]])"
   ]
  },
  {
   "cell_type": "code",
   "execution_count": 31,
   "id": "106ae8c1",
   "metadata": {},
   "outputs": [
    {
     "data": {
      "text/plain": [
       "2"
      ]
     },
     "execution_count": 31,
     "metadata": {},
     "output_type": "execute_result"
    }
   ],
   "source": [
    "np.linalg.matrix_rank(A)"
   ]
  },
  {
   "cell_type": "markdown",
   "id": "71078df0",
   "metadata": {},
   "source": [
    "## Dimension:\n",
    "\n",
    "- The **dimension** of a matrix refers to its shape, specifically the number of rows and columns. for example, a matrix with 2 rows and 2 columns is 2-dimensional matrix"
   ]
  },
  {
   "cell_type": "markdown",
   "id": "a0b75e6e",
   "metadata": {},
   "source": [
    "# numpy attributes"
   ]
  },
  {
   "cell_type": "code",
   "execution_count": 32,
   "id": "a3b86e72",
   "metadata": {},
   "outputs": [],
   "source": [
    "A = np.array([[6, 5], [3, 4]])"
   ]
  },
  {
   "cell_type": "markdown",
   "id": "75740f54",
   "metadata": {},
   "source": [
    "### .ndim:\n",
    "- Returns the number of dimensions (axes) of the array\n",
    "\n",
    "\n",
    "- 0th axis: vertical direction (rows)\n",
    "- 1st axis: Horizontal direction (columns)\n",
    "- Higher axis: Extend into additional dimensions (depth, time, etc.)\n",
    "\n",
    "\n",
    "- Axes correspond to the dimensions of the array, helping define how operations are performed"
   ]
  },
  {
   "cell_type": "code",
   "execution_count": 33,
   "id": "7a19d850",
   "metadata": {},
   "outputs": [
    {
     "data": {
      "text/plain": [
       "2"
      ]
     },
     "execution_count": 33,
     "metadata": {},
     "output_type": "execute_result"
    }
   ],
   "source": [
    "A.ndim"
   ]
  },
  {
   "cell_type": "markdown",
   "id": "d388d5b1",
   "metadata": {},
   "source": [
    "### .shape:\n",
    "- Returns a tuple representing the size of each dimension of the array. For 2D array, it returns (rows, columns)"
   ]
  },
  {
   "cell_type": "code",
   "execution_count": 34,
   "id": "3d3f6124",
   "metadata": {},
   "outputs": [
    {
     "data": {
      "text/plain": [
       "(2, 2)"
      ]
     },
     "execution_count": 34,
     "metadata": {},
     "output_type": "execute_result"
    }
   ],
   "source": [
    "A.shape"
   ]
  },
  {
   "cell_type": "markdown",
   "id": "b8bc7564",
   "metadata": {},
   "source": [
    "### .size:\n",
    "- Returns the total number of elements in the array. It is the product of the elements of the shape tuple."
   ]
  },
  {
   "cell_type": "code",
   "execution_count": 35,
   "id": "7026f780",
   "metadata": {},
   "outputs": [
    {
     "data": {
      "text/plain": [
       "4"
      ]
     },
     "execution_count": 35,
     "metadata": {},
     "output_type": "execute_result"
    }
   ],
   "source": [
    "A.size"
   ]
  },
  {
   "cell_type": "markdown",
   "id": "c0e8b67b",
   "metadata": {},
   "source": [
    "### .dtype:\n",
    "\n",
    "- Returns the data type of the elements in the array. It helps understand what kind of data is stored"
   ]
  },
  {
   "cell_type": "code",
   "execution_count": 36,
   "id": "2105d111",
   "metadata": {},
   "outputs": [
    {
     "data": {
      "text/plain": [
       "dtype('int32')"
      ]
     },
     "execution_count": 36,
     "metadata": {},
     "output_type": "execute_result"
    }
   ],
   "source": [
    "A.dtype"
   ]
  },
  {
   "cell_type": "markdown",
   "id": "71b1ed25",
   "metadata": {},
   "source": [
    "# Exercises"
   ]
  },
  {
   "cell_type": "markdown",
   "id": "15a3d4a6",
   "metadata": {},
   "source": [
    "1. Solving Linear Equations:\n",
    "\n",
    "Given the system of equations:\n",
    "\n",
    "\n",
    "\\begin{align*}\n",
    "2x_1 + 3x_2 &= 12 \\\\\n",
    "4x_1 + x_2 &= 11\n",
    "\\end{align*}\n",
    "\n",
    "- Create the coefficient matrix \\( A \\) and constants vector \\( B \\), and solve for \\( x_1 \\) and \\( x_2 \\) using `np.linalg.solve()`.\n",
    "\n",
    "2. plot the lines represented by the equations on a graph and indicate the solution point.\n",
    "\n",
    "3. Matrix Transposition:\n",
    "\n",
    "- Create a 3x2 matrix and compute its transpose using np.transpose(). Print both the original and transposed matrices.\n",
    "\n",
    "4. Check the rank, shape, size and type of matrix the coefficient matrix \\( A \\) in the first exercise\n",
    "\n"
   ]
  }
 ],
 "metadata": {
  "kernelspec": {
   "display_name": "Python 3",
   "language": "python",
   "name": "python3"
  },
  "language_info": {
   "codemirror_mode": {
    "name": "ipython",
    "version": 3
   },
   "file_extension": ".py",
   "mimetype": "text/x-python",
   "name": "python",
   "nbconvert_exporter": "python",
   "pygments_lexer": "ipython3",
   "version": "3.12.4"
  }
 },
 "nbformat": 4,
 "nbformat_minor": 5
}
